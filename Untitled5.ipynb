{
 "cells": [
  {
   "cell_type": "code",
   "execution_count": 23,
   "metadata": {},
   "outputs": [
    {
     "name": "stdout",
     "output_type": "stream",
     "text": [
      "12/11/2019\n",
      "23:27:42\n",
      "0,5.2,12/11/2019,23:27:42\n",
      "   Identificador  Valor Capturado        Data      Hora\n",
      "0              0              5.2  12/11/2019  23:27:42\n"
     ]
    }
   ],
   "source": [
    "import csv\n",
    "import pandas as pd\n",
    "import sys\n",
    "import os\n",
    "from datetime import datetime\n",
    "now = datetime.now()\n",
    "\n",
    "data = str(now.day) + \"/\" + str(now.month) + \"/\" + str(now.year)\n",
    "print(data)\n",
    "hora = str(now.hour) + \":\" + str(now.minute) + \":\" + str(now.second)\n",
    "print(hora)\n",
    "\n",
    "def nLinhas (nomeDoArquivo):\n",
    "\n",
    "    arquivo = open(nomeDoArquivo, \"r\");\n",
    "    linhaUnica = \"\";\n",
    "    linhas = [];\n",
    "\n",
    "    for linha in arquivo:\n",
    "        linhaUnica += linha + \"#lin#\";\n",
    "\n",
    "    arquivo.close();\n",
    "    linhas = linhaUnica.split(\"#lin#\");\n",
    "    nlinhas = len(linhas) - 1;\n",
    "\n",
    "    return nlinhas;\n",
    "\n",
    "with open(\"dados4.txt\",\"r\") as dados4, open(\"dados4.txt\",\"a\") as dados3:\n",
    "        ler = dados4.readlines()\n",
    "        limit = nLinhas(\"dados4.txt\")\n",
    "        for i in range(0,limit):\n",
    "            escrever = dados3.write(\",\" + data + \",\" + hora)\n",
    "            escrever1 = dados3.write(\"\\n3,34.6\")\n",
    "            limit++\n",
    "\n",
    "with open(\"dados4.txt\",\"r\") as dados2:\n",
    "        ler1 = dados2.read()\n",
    "        print(ler1)\n",
    "\n",
    "os.rename(\"dados4.txt\",\"dados4.csv\")\n",
    "\n",
    "with open(\"dados4.csv\",\"r\") as dados:\n",
    "        ler = pd.read_csv(dados, delimiter=',', quotechar = \"\\t\", names=[\"Identificador\",\"Valor Capturado\", \"Data\", \"Hora\"])\n",
    "        print(ler)\n",
    "        ler.to_csv(r\"planilha.csv\", index = False, sep=',', quotechar = \"\\t\")\n"
   ]
  },
  {
   "cell_type": "code",
   "execution_count": null,
   "metadata": {},
   "outputs": [],
   "source": []
  }
 ],
 "metadata": {
  "kernelspec": {
   "display_name": "Python 3",
   "language": "python",
   "name": "python3"
  },
  "language_info": {
   "codemirror_mode": {
    "name": "ipython",
    "version": 3
   },
   "file_extension": ".py",
   "mimetype": "text/x-python",
   "name": "python",
   "nbconvert_exporter": "python",
   "pygments_lexer": "ipython3",
   "version": "3.7.3"
  }
 },
 "nbformat": 4,
 "nbformat_minor": 2
}
