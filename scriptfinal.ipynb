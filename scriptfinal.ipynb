{
 "cells": [
  {
   "cell_type": "code",
   "execution_count": 28,
   "metadata": {},
   "outputs": [
    {
     "name": "stdout",
     "output_type": "stream",
     "text": [
      "   Identificador  Valor Capturado        Data     Hora\n",
      "0              0              5.2  13/11/2019  2:44:31\n",
      "1              0              7.3  13/11/2019  2:44:32\n",
      "2              1             37.5  13/11/2019  2:44:33\n",
      "3              2             41.0  13/11/2019  2:44:34\n",
      "4              0              2.4  13/11/2019  2:44:35\n",
      "5              3            416.5  13/11/2019  2:44:36\n",
      "6              1             31.7  13/11/2019  2:44:37\n"
     ]
    }
   ],
   "source": [
    "import csv\n",
    "import pandas as pd\n",
    "import csv\n",
    "import pandas as pd\n",
    "import sys\n",
    "import os\n",
    "import time\n",
    "from datetime import datetime\n",
    "\n",
    "def nLinhas (nomeArquivo):\n",
    "    arquivo = open(nomeArquivo, \"r\");\n",
    "    linhaUnica = \"\";\n",
    "    linhas = [];\n",
    "    for linha in arquivo:\n",
    "        linhaUnica += linha + \"#\";\n",
    "    arquivo.close();\n",
    "    linhas = linhaUnica.split(\"#\");\n",
    "    nlinhas = len(linhas) - 1;\n",
    "    return nlinhas;\n",
    "\n",
    "contador = 0\n",
    "while (contador < 5):\n",
    "       with open(\"dados2.txt\",\"r\") as dados4, open(\"dados6.txt\",\"a\") as dados3:\n",
    "            limit = nLinhas(\"dados2.txt\")\n",
    "            for i in range(0,limit):\n",
    "                ler = dados4.readline()\n",
    "                num = str(ler.replace(\"b'\",\"\").replace(\"\\\\r\\\\n'\", \"\"))\n",
    "                num2 = num.strip()\n",
    "                now = datetime.now()\n",
    "                data = str(now.day) + \"/\" + str(now.month) + \"/\" + str(now.year)\n",
    "                hora = str(now.hour) + \":\" + str(now.minute) + \":\" + str(now.second)\n",
    "                escreve2 = dados3.write(num2 + \",\" + data + \",\" + hora + \"\\n\")\n",
    "                time.sleep(1)\n",
    "                contador= contador + 1\n",
    "\n",
    "os.rename(\"dados6.txt\",\"dados6.csv\")\n",
    "\n",
    "with open(\"dados6.csv\",\"r\") as dados:\n",
    "        ler = pd.read_csv(dados, delimiter=',', quotechar = \"\\t\", names=[\"Identificador\",\"Valor Capturado\", \"Data\", \"Hora\"])\n",
    "        print(ler)\n",
    "        ler.to_csv(r\"planilha.csv\", index = False, sep=',', quotechar = \"\\t\")"
   ]
  },
  {
   "cell_type": "code",
   "execution_count": null,
   "metadata": {},
   "outputs": [],
   "source": []
  }
 ],
 "metadata": {
  "kernelspec": {
   "display_name": "Python 3",
   "language": "python",
   "name": "python3"
  },
  "language_info": {
   "codemirror_mode": {
    "name": "ipython",
    "version": 3
   },
   "file_extension": ".py",
   "mimetype": "text/x-python",
   "name": "python",
   "nbconvert_exporter": "python",
   "pygments_lexer": "ipython3",
   "version": "3.7.3"
  }
 },
 "nbformat": 4,
 "nbformat_minor": 2
}
