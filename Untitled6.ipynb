{
 "cells": [
  {
   "cell_type": "code",
   "execution_count": 5,
   "metadata": {},
   "outputs": [
    {
     "data": {
      "text/plain": [
       "1"
      ]
     },
     "execution_count": 5,
     "metadata": {},
     "output_type": "execute_result"
    }
   ],
   "source": [
    "import csv\n",
    "import pandas as pd\n",
    "import sys\n",
    "import os\n",
    "\n",
    "def obter_n_linhas (nomeDoArquivo):\n",
    "\n",
    "    arquivo = open(nomeDoArquivo, \"r\");\n",
    "    linhaUnica = \"\";\n",
    "    linhas = [];\n",
    "\n",
    "    for linha in arquivo:\n",
    "        linhaUnica += linha + \"#lin#\";\n",
    "\n",
    "    arquivo.close();\n",
    "    linhas = linhaUnica.split(\"#lin#\");\n",
    "    nLinhas = len(linhas) - 1;\n",
    "\n",
    "    return nLinhas;\n",
    "\n",
    "obter_n_linhas(\"dados4.txt\")"
   ]
  },
  {
   "cell_type": "code",
   "execution_count": null,
   "metadata": {},
   "outputs": [],
   "source": []
  }
 ],
 "metadata": {
  "kernelspec": {
   "display_name": "Python 3",
   "language": "python",
   "name": "python3"
  },
  "language_info": {
   "codemirror_mode": {
    "name": "ipython",
    "version": 3
   },
   "file_extension": ".py",
   "mimetype": "text/x-python",
   "name": "python",
   "nbconvert_exporter": "python",
   "pygments_lexer": "ipython3",
   "version": "3.7.3"
  }
 },
 "nbformat": 4,
 "nbformat_minor": 2
}
