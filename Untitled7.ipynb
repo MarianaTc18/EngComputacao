{
 "cells": [
  {
   "cell_type": "code",
   "execution_count": 22,
   "metadata": {},
   "outputs": [
    {
     "name": "stdout",
     "output_type": "stream",
     "text": [
      "0,5.2\n",
      "0,7.3\n",
      "1,37.5\n",
      "2,41.0\n",
      "0,2.4\n",
      "3,416.5\n",
      "1,31.7\n",
      "0,5.2\n",
      "0,7.3\n",
      "1,37.5\n",
      "2,41.0\n",
      "0,2.4\n",
      "3,416.5\n",
      "1,31.7\n",
      "0,5.2\n",
      "0,7.3\n",
      "1,37.5\n",
      "2,41.0\n",
      "0,2.4\n",
      "3,416.5\n",
      "1,31.7\n",
      "0,5.2\n",
      "0,7.3\n",
      "1,37.5\n",
      "2,41.0\n",
      "0,2.4\n",
      "3,416.5\n",
      "1,31.7\n",
      "0,5.2\n",
      "0,7.3\n",
      "1,37.5\n",
      "2,41.0\n",
      "0,2.4\n",
      "3,416.5\n",
      "1,31.7\n",
      "0,5.2\n",
      "0,7.3\n",
      "1,37.5\n",
      "2,41.0\n",
      "0,2.4\n",
      "3,416.5\n",
      "1,31.7\n",
      "0,5.2\n",
      "0,7.3\n",
      "1,37.5\n",
      "2,41.0\n",
      "0,2.4\n",
      "3,416.5\n",
      "1,31.7\n"
     ]
    }
   ],
   "source": [
    "def nLinhas (nomeArquivo):\n",
    "    arquivo = open(nomeArquivo, \"r\");\n",
    "    linhaUnica = \"\";\n",
    "    linhas = [];\n",
    "    for linha in arquivo:\n",
    "        linhaUnica += linha + \"#\";\n",
    "    arquivo.close();\n",
    "    linhas = linhaUnica.split(\"#\");\n",
    "    nlinhas = len(linhas) - 1;\n",
    "    return nlinhas;\n",
    "\n",
    "with open(\"dados2.txt\",\"r\") as dados4, open(\"dados6.txt\",\"a\") as dados3:\n",
    "            limit = nLinhas(\"dados2.txt\")\n",
    "            for i in range(0,limit):\n",
    "                ler = dados4.read()\n",
    "                #print(ler[i])\n",
    "                #num = ler.replace(\"b'\",\"\").replace(\"\\\\r\\\\n'\", \"\")\n",
    "                print(num)"
   ]
  },
  {
   "cell_type": "code",
   "execution_count": null,
   "metadata": {},
   "outputs": [],
   "source": []
  }
 ],
 "metadata": {
  "kernelspec": {
   "display_name": "Python 3",
   "language": "python",
   "name": "python3"
  },
  "language_info": {
   "codemirror_mode": {
    "name": "ipython",
    "version": 3
   },
   "file_extension": ".py",
   "mimetype": "text/x-python",
   "name": "python",
   "nbconvert_exporter": "python",
   "pygments_lexer": "ipython3",
   "version": "3.7.3"
  }
 },
 "nbformat": 4,
 "nbformat_minor": 2
}
