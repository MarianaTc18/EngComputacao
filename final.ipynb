{
 "cells": [
  {
   "cell_type": "code",
   "execution_count": 25,
   "metadata": {},
   "outputs": [
    {
     "name": "stdout",
     "output_type": "stream",
     "text": [
      "   Identificador Valor Capturado         Data       Hora\n",
      "0              0        5 metros   18/09/2019   08:10:46\n",
      "1              0        7 metros   18/09/2019   08:10:47\n",
      "2              1            37 C   18/09/2019   08:10:48\n",
      "3              2           41 Hz   18/09/2019   08:10:49\n",
      "4              0        2 metros   18/09/2019   08:10:50\n",
      "5              3          416 nm   18/09/2019   08:10:51\n",
      "6              1            31 C   18/09/2019   08:11:01\n",
      "\n",
      "    Identificador Valor Capturado         Data       Hora\n",
      "0              0        5 metros   18/09/2019   08:10:46\n",
      "1              0        7 metros   18/09/2019   08:10:47\n",
      "2              1            37 C   18/09/2019   08:10:48\n",
      "3              2           41 Hz   18/09/2019   08:10:49\n",
      "4              0        2 metros   18/09/2019   08:10:50\n",
      "5              3          416 nm   18/09/2019   08:10:51\n",
      "6              1            31 C   18/09/2019   08:11:01\n"
     ]
    }
   ],
   "source": [
    "import csv\n",
    "import pandas as pd\n",
    "import sys\n",
    "import os\n",
    "\n",
    "os.rename(\"dados1.txt\",\"dados1.csv\")\n",
    "\n",
    "with open(\"dados1.csv\",\"r\") as dados:\n",
    "        ler = pd.read_csv(dados, delimiter=',', quotechar = \"\\t\", names=[\"Identificador\",\"Valor Capturado\", \"Data\", \"Hora\"])\n",
    "        print(ler)\n",
    "        ler.to_csv(r\"planilha.csv\", index = False, sep=',', quotechar = \"\\t\")"
   ]
  },
  {
   "cell_type": "code",
   "execution_count": null,
   "metadata": {},
   "outputs": [],
   "source": []
  }
 ],
 "metadata": {
  "kernelspec": {
   "display_name": "Python 3",
   "language": "python",
   "name": "python3"
  },
  "language_info": {
   "codemirror_mode": {
    "name": "ipython",
    "version": 3
   },
   "file_extension": ".py",
   "mimetype": "text/x-python",
   "name": "python",
   "nbconvert_exporter": "python",
   "pygments_lexer": "ipython3",
   "version": "3.7.3"
  }
 },
 "nbformat": 4,
 "nbformat_minor": 2
}
